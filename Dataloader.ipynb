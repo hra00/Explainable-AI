{
 "cells": [
  {
   "cell_type": "markdown",
   "id": "2aebb97e",
   "metadata": {},
   "source": [
    "# Data Loader\n",
    "\n",
    "First create the folder structure by unzipping\n",
    "* ```data/ferplus2013/images/images.zip``` for **FER+**\n",
    "* ```data/RAF/images/images.zip``` for **RAF**"
   ]
  },
  {
   "cell_type": "markdown",
   "id": "4e8ee4b0",
   "metadata": {},
   "source": [
    "## RAF Database\n",
    "* values of the images are RGB from $[0, 255]$\n",
    "* emotions:\n",
    "    * surprise\n",
    "    * fear\n",
    "    * disgust\n",
    "    * happiness\n",
    "    * sadness\n",
    "    * anger\n",
    "    * neutral"
   ]
  },
  {
   "cell_type": "code",
   "execution_count": 1,
   "id": "cfb7d286",
   "metadata": {},
   "outputs": [],
   "source": [
    "from Dataloader import load_RAF"
   ]
  },
  {
   "cell_type": "code",
   "execution_count": 2,
   "id": "47228c28",
   "metadata": {},
   "outputs": [
    {
     "name": "stdout",
     "output_type": "stream",
     "text": [
      "Counted 12271 images for traininig\n",
      "Counted 3068 images for testing\n",
      "Found 12271 validated image filenames belonging to 7 classes.\n",
      "Found 3068 validated image filenames belonging to 7 classes.\n",
      "Wall time: 1.29 s\n"
     ]
    }
   ],
   "source": [
    "%%time\n",
    "raf_dir = './data/RAF/'\n",
    "target_img_size = (100, 100, 3)\n",
    "\n",
    "train_data, test_data = load_RAF(raf_dir, target_img_size)"
   ]
  },
  {
   "cell_type": "markdown",
   "id": "c866b489",
   "metadata": {},
   "source": [
    "## FER plus\n",
    "* values of the images are between $[0, 1]$\n",
    "* emotions:\n",
    "    * anger\n",
    "    * disgust\n",
    "    * fear\n",
    "    * happiness\n",
    "    * neutral\n",
    "    * sadness\n",
    "    * surprise"
   ]
  },
  {
   "cell_type": "code",
   "execution_count": 3,
   "id": "65e2e5db",
   "metadata": {},
   "outputs": [],
   "source": [
    "from Dataloader import load_FERplus"
   ]
  },
  {
   "cell_type": "code",
   "execution_count": 4,
   "id": "a38e16c8",
   "metadata": {},
   "outputs": [
    {
     "name": "stdout",
     "output_type": "stream",
     "text": [
      "Counted 28224 images for traininig\n",
      "Counted 3529 images for validation\n",
      "Counted 3519 images for testing\n",
      "Found 28224 validated image filenames belonging to 7 classes.\n",
      "Found 3529 validated image filenames belonging to 7 classes.\n",
      "Found 3519 validated image filenames belonging to 7 classes.\n",
      "Wall time: 7.1 s\n"
     ]
    }
   ],
   "source": [
    "%%time\n",
    "ferplus_dir = './data/ferplus2013/'\n",
    "target_img_size = (100, 100, 3)\n",
    "\n",
    "train_data, val_data, test_data = load_FERplus(ferplus_dir, target_img_size)"
   ]
  },
  {
   "cell_type": "markdown",
   "id": "b12143cf",
   "metadata": {},
   "source": [
    "---"
   ]
  }
 ],
 "metadata": {
  "kernelspec": {
   "display_name": "Python 3 (ipykernel)",
   "language": "python",
   "name": "python3"
  },
  "language_info": {
   "codemirror_mode": {
    "name": "ipython",
    "version": 3
   },
   "file_extension": ".py",
   "mimetype": "text/x-python",
   "name": "python",
   "nbconvert_exporter": "python",
   "pygments_lexer": "ipython3",
   "version": "3.9.7"
  }
 },
 "nbformat": 4,
 "nbformat_minor": 5
}
