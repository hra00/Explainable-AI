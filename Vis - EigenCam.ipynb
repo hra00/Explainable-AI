{
 "cells": [
  {
   "cell_type": "markdown",
   "metadata": {},
   "source": [
    "# Visualization -EigenCam (in progress)\n",
    "**Author**: Hyeri"
   ]
  },
  {
   "cell_type": "code",
   "execution_count": 64,
   "metadata": {},
   "outputs": [],
   "source": [
    "import copy\n",
    "import numpy as np\n",
    "import matplotlib.pyplot as plt\n",
    "import tensorflow as tf\n",
    "from tensorflow.keras.models import load_model\n",
    "from tensorflow.keras.preprocessing.image import load_img, img_to_array\n",
    "from tensorflow.keras import Model, Input \n",
    "import cv2\n",
    "import random\n",
    "\n",
    "labels_raf = {  0:  'Anger',\n",
    "                1:  'Disgust',\n",
    "                2:  'Fear',\n",
    "                3:  'Happiness',\n",
    "                4:  'Neutral',\n",
    "                5:  'Sadness',\n",
    "                6:  'Surprise'\n",
    "            }\n",
    "labels_fer = {  0:  'NF',\n",
    "                1:  'anger',\n",
    "                2:  'comtempt',\n",
    "                3:  'disgust',\n",
    "                4:  'fear',\n",
    "                5:  'happiness',\n",
    "                6:  'neutral',\n",
    "                7:  'sadness',\n",
    "                8:  'surprise',\n",
    "                9:  'unknown'\n",
    "            }\n",
    "raw_labels_raf = {  1:  'Surprise',\n",
    "                    2:  'Fear',\n",
    "                    3:  'Disgust',\n",
    "                    4:  'Happiness',\n",
    "                    5:  'Sadness',\n",
    "                    6:  'Anger',\n",
    "                    7:  'Neutral'\n",
    "                }\n",
    "raw_labels_fer = {  1: 'neutral',\n",
    "                    2: 'happiness',\n",
    "                    3: 'surprise',\n",
    "                    4: 'sadness',\n",
    "                    5: 'anger',\n",
    "                    6: 'disgust',\n",
    "                    7: 'fear',\n",
    "                    8: 'comtempt',\n",
    "                    9: 'unknown',\n",
    "                    10: 'NF'\n",
    "                 }\n",
    "\n",
    "def img_to_tensor(img_path, img_size=(100,100,3), RGB=True):\n",
    "    img = cv2.imread(img_path, 1)[...,::-1]\n",
    "    img_tensor = cv2.resize(img, img_size[:2])\n",
    "    img_tensor = np.float32(img_tensor) / 255 if RGB else img_tensor\n",
    "    return np.float32(img_tensor)\n",
    "\n",
    "def pp_result(cam, img_tensor, result):\n",
    "    _, axs = plt.subplots(1, 2, figsize=(10, 10))\n",
    "    axs[0].set_title(result)\n",
    "    axs[0].imshow(img_tensor)\n",
    "    axs[0].imshow(cam, alpha=0.7)\n",
    "    cam_adj = show_cam_on_image(img_tensor, cam)\n",
    "    plt.title(result + ' (adjusted)')\n",
    "    axs[1].imshow(cam_adj)\n",
    "    plt.show()\n",
    "\n",
    "def img_to_input_tensor(img_list):\n",
    "    img_paths = img_list\n",
    "    return np.array([img_to_tensor(img_path).astype(np.float32) for img_path in img_paths])\n",
    "\n",
    "def get_img_list_raf(num_imgs : int, emotion : str):\n",
    "    img_list = []\n",
    "    folderpath = './data/RAF/'\n",
    "    imgpath = './data/RAF/images/'\n",
    "    labelling_list = open(folderpath + 'labels.txt', 'r').read().strip().split('\\n')\n",
    "    for name_label in labelling_list:\n",
    "        image_name, label = name_label.split(' ')\n",
    "        if raw_labels_raf[int(label)] == emotion and 'test' == image_name[:4]:\n",
    "            name, fileend = image_name.split('.')\n",
    "            filename = imgpath + name + '_aligned.' + fileend\n",
    "            img_list.append(filename)\n",
    "        #elif len(img_list) >= num_imgs: break\n",
    "    return img_list\n",
    "\n",
    "def get_img_list_fer(num_imgs : int, emotion : str):\n",
    "    img_list = []\n",
    "    csv_path = './data/ferplus2013/fer2013new.csv'\n",
    "    test_dir = './data/ferplus2013/images/FER2013Test/'\n",
    "    labelling_list = open(csv_path, 'r').read().strip().split('\\n')\n",
    "    for name_label in labelling_list:\n",
    "        usage, file_name, neutral, happiness, surprise, sadness, anger, disgust, fear, contempt, unknown, NF = name_label.split(',')\n",
    "        category = [neutral, happiness, surprise, sadness, anger, disgust, fear, contempt, unknown, NF]\n",
    "        label = raw_labels_fer[np.argmax(category)+1]\n",
    "        if label == emotion and usage=='PrivateTest':\n",
    "            filepath = test_dir + file_name\n",
    "            img_list.append(filepath)\n",
    "        #elif len(img_list) >= num_imgs: break\n",
    "    return img_list"
   ]
  },
  {
   "cell_type": "markdown",
   "source": [
    "## Path"
   ],
   "metadata": {
    "collapsed": false
   }
  },
  {
   "cell_type": "code",
   "execution_count": 65,
   "outputs": [],
   "source": [
    "model_fer = './models/model_ferplus_h.h5'\n",
    "model_raf = './models/model_raf_h.h5'\n",
    "input_model = model_raf\n",
    "\n",
    "# 5, 6, 7, 10, 11, 13, 14, 16, 19, 22, 26\n",
    "# fer ; 7(anger), 8(surprise-wrong), 12(happy), 13(happy), 17(neutral - wrong), 19(happy), 24(komisch), 24(neutral), 25(happy), 37(neutral-wrong), 40(horror..),\n",
    "#       41(happy), 45(sad), 69(sad)\n",
    "# raf ; 9(happy), 14(happy), 15(surprise), 17(disgust-wrong), 21(happy), 24(neutral), 37(anger), 39(sad), 48(happy), 283(disgust), 623(fear), 1788(fear)"
   ],
   "metadata": {
    "collapsed": false,
    "pycharm": {
     "name": "#%%\n"
    }
   }
  },
  {
   "cell_type": "markdown",
   "metadata": {},
   "source": [
    "## Images"
   ]
  },
  {
   "cell_type": "code",
   "execution_count": 66,
   "outputs": [],
   "source": [
    "img_size = (100,100,3)\n",
    "emotion = 'Happiness'\n",
    "img_list = get_img_list_raf(100,emotion)\n",
    "num_imgs = len(img_list)\n",
    "input_img_tensor = img_to_input_tensor(img_list)"
   ],
   "metadata": {
    "collapsed": false,
    "pycharm": {
     "name": "#%%\n"
    }
   }
  },
  {
   "cell_type": "markdown",
   "metadata": {},
   "source": [
    "## Model"
   ]
  },
  {
   "cell_type": "code",
   "execution_count": 67,
   "metadata": {},
   "outputs": [
    {
     "name": "stderr",
     "output_type": "stream",
     "text": [
      "2022-01-24 20:46:42.537758: I tensorflow/core/grappler/optimizers/custom_graph_optimizer_registry.cc:112] Plugin optimizer for device_type GPU is enabled.\n"
     ]
    }
   ],
   "source": [
    "model = load_model(input_model)\n",
    "#print([layer.name for layer in model.layers])\n",
    "\n",
    "# Activation model : ~ last conv layer\n",
    "last_conv_layer_name = 'conv2d_7'\n",
    "last_conv_layer = model.get_layer(last_conv_layer_name)\n",
    "activation_model = tf.keras.Model(model.inputs, last_conv_layer.output)\n",
    "\n",
    "activations = activation_model.predict(input_img_tensor)\n",
    "#print(activation.shape)"
   ]
  },
  {
   "cell_type": "markdown",
   "metadata": {},
   "source": []
  },
  {
   "cell_type": "code",
   "execution_count": 68,
   "outputs": [
    {
     "name": "stdout",
     "output_type": "stream",
     "text": [
      "CPU times: user 1min 15s, sys: 20.8 s, total: 1min 36s\n",
      "Wall time: 17.5 s\n"
     ]
    },
    {
     "data": {
      "text/plain": "<Figure size 432x288 with 1 Axes>",
      "image/png": "[encoded data removed]"
     },
     "metadata": {
      "needs_background": "light"
     },
     "output_type": "display_data"
    }
   ],
   "source": [
    "%%time\n",
    "def get_class_activation_map_2(activations):\n",
    "    cams = []\n",
    "    for i in range(activations.shape[0]):\n",
    "        activation = activations[i][np.newaxis, ...]\n",
    "        reshaped_activation = activation.reshape(activation.shape[3], -1).transpose()\n",
    "        reshaped_activation -= reshaped_activation.mean(axis=0)\n",
    "        _, _, VT = np.linalg.svd(reshaped_activation, full_matrices=True)\n",
    "        projection = [activation[:,:,:,i] * VT[0,i] for i in range(activation.shape[3])]\n",
    "        cam = np.zeros(shape = activation.shape[1:3])\n",
    "        for filters in projection:\n",
    "            cam += filters[0]\n",
    "        cams.append(np.float32(cam))\n",
    "    return cams\n",
    "\n",
    "def scale_cam(cam, target_size=(100,100)):\n",
    "    cam = cam - np.min(cam)\n",
    "    cam = cam / (1e-7 + np.max(cam))\n",
    "    cam = cv2.resize(cam, target_size)\n",
    "    result = np.float32(cam)\n",
    "    return result\n",
    "\n",
    "def show_all_heatmaps(imgs: np.ndarray, cams: np.ndarray, colormap: int = cv2.COLORMAP_JET) -> np.ndarray:\n",
    "    H, W = 10, 10\n",
    "    _, axs = plt.subplots(H, W, figsize=(30, 30))\n",
    "    blended_heatmap = np.zeros(shape=(100,100,3))\n",
    "    for i in range(len(cams)):\n",
    "        cam = cams[i]\n",
    "        cam = scale_cam(cam)\n",
    "        classification_result = np.argmax(model.predict(input_img_tensor)[i])\n",
    "        title = labels_raf[classification_result] if input_model==model_raf else labels_fer[classification_result]\n",
    "        heatmap = cv2.applyColorMap(np.uint8(255 * cam), colormap)\n",
    "        heatmap = cv2.cvtColor(heatmap, cv2.COLOR_BGR2RGB)\n",
    "        heatmap = np.float32(heatmap) / 255\n",
    "        if np.max(cam) > 1:\n",
    "            raise Exception(\n",
    "                \"The input image should np.float32 in the range [0, 1]\")\n",
    "        heatmap /= np.max(heatmap)\n",
    "        cam_image = 0.7*heatmap + imgs[i]\n",
    "        cam_image /= np.max(cam_image)\n",
    "        axs[i//W][i%W].set_title(title)\n",
    "        axs[i//W][i%W].imshow(cam_image)\n",
    "        blended_heatmap += heatmap\n",
    "    blended_heatmap /= np.max(blended_heatmap)\n",
    "    axs[H-1][W-1].set_title('blended_heatmap')\n",
    "    axs[H-1][W-1].imshow(blended_heatmap)\n",
    "    plt.show()\n",
    "\n",
    "def show_blended_only(imgs: np.ndarray, cams: np.ndarray, colormap: int = cv2.COLORMAP_JET) -> np.ndarray:\n",
    "    blended_heatmap = np.zeros(shape=(100,100,3))\n",
    "    for i in range(len(cams)):\n",
    "        cam = cams[i]\n",
    "        cam = scale_cam(cam)\n",
    "        heatmap = cv2.applyColorMap(np.uint8(255 * cam), colormap)\n",
    "        heatmap = cv2.cvtColor(heatmap, cv2.COLOR_BGR2RGB)\n",
    "        heatmap = np.float32(heatmap) / 255\n",
    "        if np.max(cam) > 1:\n",
    "            raise Exception(\n",
    "                \"The input image should np.float32 in the range [0, 1]\")\n",
    "        heatmap /= np.max(heatmap)\n",
    "        blended_heatmap += heatmap\n",
    "    blended_heatmap /= np.max(blended_heatmap)\n",
    "    plt.title('heatmap (' + emotion +') (' + str(num_imgs) + ' images)' )\n",
    "    plt.imshow(blended_heatmap)\n",
    "\n",
    "cams = get_class_activation_map_2(activations)\n",
    "#show_all_heatmaps(input_img_tensor, cams)\n",
    "show_blended_only(input_img_tensor, cams)"
   ],
   "metadata": {
    "collapsed": false,
    "pycharm": {
     "name": "#%%\n"
    }
   }
  },
  {
   "cell_type": "code",
   "execution_count": 68,
   "outputs": [],
   "source": [],
   "metadata": {
    "collapsed": false,
    "pycharm": {
     "name": "#%%\n"
    }
   }
  }
 ],
 "metadata": {
  "interpreter": {
   "hash": "a9687d38577f8237131e286dce07cade875e23c84955078ec38b66a80def3d47"
  },
  "kernelspec": {
   "name": "tensorflow",
   "language": "python",
   "display_name": "tensorflow"
  },
  "language_info": {
   "codemirror_mode": {
    "name": "ipython",
    "version": 3
   },
   "file_extension": ".py",
   "mimetype": "text/x-python",
   "name": "python",
   "nbconvert_exporter": "python",
   "pygments_lexer": "ipython3",
   "version": "3.9.7"
  },
  "orig_nbformat": 4
 },
 "nbformat": 4,
 "nbformat_minor": 2
}